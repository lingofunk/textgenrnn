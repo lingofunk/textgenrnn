{
 "cells": [
  {
   "cell_type": "code",
   "execution_count": 1,
   "metadata": {},
   "outputs": [],
   "source": [
    "import sys, os\n",
    "import pandas as pd\n",
    "import numpy as np"
   ]
  },
  {
   "cell_type": "code",
   "execution_count": 2,
   "metadata": {},
   "outputs": [],
   "source": [
    "sys.path.insert(0, '..')"
   ]
  },
  {
   "cell_type": "code",
   "execution_count": 3,
   "metadata": {},
   "outputs": [
    {
     "name": "stderr",
     "output_type": "stream",
     "text": [
      "Using TensorFlow backend.\n"
     ]
    }
   ],
   "source": [
    "from textgenrnn.textgenrnn import textgenrnn"
   ]
  },
  {
   "cell_type": "code",
   "execution_count": 4,
   "metadata": {},
   "outputs": [],
   "source": [
    "data_folder = '/media/student/8d1913cf-1155-47a5-a7db-b9a51f445d8f/student/data'"
   ]
  },
  {
   "cell_type": "code",
   "execution_count": 5,
   "metadata": {},
   "outputs": [
    {
     "data": {
      "text/plain": [
       "True"
      ]
     },
     "execution_count": 5,
     "metadata": {},
     "output_type": "execute_result"
    }
   ],
   "source": [
    "os.path.exists(data_folder)"
   ]
  },
  {
   "cell_type": "code",
   "execution_count": 6,
   "metadata": {},
   "outputs": [
    {
     "data": {
      "text/plain": [
       "['yelp_dataset',\n",
       " 'business.csv',\n",
       " 'jigsaw-toxic-comment-classification-challenge.zip',\n",
       " 'restaurants.csv',\n",
       " 'restaurant_reviews.csv',\n",
       " 'review.csv']"
      ]
     },
     "execution_count": 6,
     "metadata": {},
     "output_type": "execute_result"
    }
   ],
   "source": [
    "os.listdir(data_folder)"
   ]
  },
  {
   "cell_type": "code",
   "execution_count": 7,
   "metadata": {},
   "outputs": [],
   "source": [
    "reviews = pd.read_csv(\n",
    "    data_folder + '/restaurant_reviews.csv',\n",
    "    nrows=20000,\n",
    "    sep=',',\n",
    "    index_col=0,\n",
    "    usecols=['stars', 'text']\n",
    ")"
   ]
  },
  {
   "cell_type": "code",
   "execution_count": 8,
   "metadata": {},
   "outputs": [],
   "source": [
    "reviews.reset_index(inplace=True)"
   ]
  },
  {
   "cell_type": "code",
   "execution_count": 9,
   "metadata": {},
   "outputs": [
    {
     "data": {
      "text/html": [
       "<div>\n",
       "<style scoped>\n",
       "    .dataframe tbody tr th:only-of-type {\n",
       "        vertical-align: middle;\n",
       "    }\n",
       "\n",
       "    .dataframe tbody tr th {\n",
       "        vertical-align: top;\n",
       "    }\n",
       "\n",
       "    .dataframe thead th {\n",
       "        text-align: right;\n",
       "    }\n",
       "</style>\n",
       "<table border=\"1\" class=\"dataframe\">\n",
       "  <thead>\n",
       "    <tr style=\"text-align: right;\">\n",
       "      <th></th>\n",
       "      <th>stars</th>\n",
       "      <th>text</th>\n",
       "    </tr>\n",
       "  </thead>\n",
       "  <tbody>\n",
       "    <tr>\n",
       "      <th>0</th>\n",
       "      <td>5.0</td>\n",
       "      <td>Went in for a lunch. Steak sandwich was delici...</td>\n",
       "    </tr>\n",
       "    <tr>\n",
       "      <th>1</th>\n",
       "      <td>4.0</td>\n",
       "      <td>I'll be the first to admit that I was not exci...</td>\n",
       "    </tr>\n",
       "    <tr>\n",
       "      <th>2</th>\n",
       "      <td>3.0</td>\n",
       "      <td>Tracy dessert had a big name in Hong Kong and ...</td>\n",
       "    </tr>\n",
       "    <tr>\n",
       "      <th>3</th>\n",
       "      <td>1.0</td>\n",
       "      <td>This place has gone down hill.  Clearly they h...</td>\n",
       "    </tr>\n",
       "    <tr>\n",
       "      <th>4</th>\n",
       "      <td>4.0</td>\n",
       "      <td>Like walking back in time, every Saturday morn...</td>\n",
       "    </tr>\n",
       "  </tbody>\n",
       "</table>\n",
       "</div>"
      ],
      "text/plain": [
       "   stars                                               text\n",
       "0    5.0  Went in for a lunch. Steak sandwich was delici...\n",
       "1    4.0  I'll be the first to admit that I was not exci...\n",
       "2    3.0  Tracy dessert had a big name in Hong Kong and ...\n",
       "3    1.0  This place has gone down hill.  Clearly they h...\n",
       "4    4.0  Like walking back in time, every Saturday morn..."
      ]
     },
     "execution_count": 9,
     "metadata": {},
     "output_type": "execute_result"
    }
   ],
   "source": [
    "reviews.head()"
   ]
  },
  {
   "cell_type": "code",
   "execution_count": 10,
   "metadata": {},
   "outputs": [],
   "source": [
    "texts = reviews['text'].values\n",
    "labels = reviews['stars'].values"
   ]
  },
  {
   "cell_type": "code",
   "execution_count": 11,
   "metadata": {},
   "outputs": [],
   "source": [
    "star2texts = {}\n",
    "star2labels = {}"
   ]
  },
  {
   "cell_type": "code",
   "execution_count": 12,
   "metadata": {},
   "outputs": [],
   "source": [
    "for star in [1.0, 2.0, 3.0, 4.0, 5.0]:\n",
    "    reviews_current = reviews[reviews.stars == star]\n",
    "    \n",
    "    star2texts[star] = reviews_current['text'].values\n",
    "    star2labels[star] = reviews_current['stars'].values"
   ]
  },
  {
   "cell_type": "code",
   "execution_count": 13,
   "metadata": {},
   "outputs": [
    {
     "name": "stdout",
     "output_type": "stream",
     "text": [
      "1.0\n",
      "2259\n",
      "\n",
      "2.0\n",
      "1825\n",
      "\n",
      "3.0\n",
      "2680\n",
      "\n",
      "4.0\n",
      "5217\n",
      "\n",
      "5.0\n",
      "8019\n",
      "\n"
     ]
    }
   ],
   "source": [
    "for star in [1.0, 2.0, 3.0, 4.0, 5.0]:\n",
    "    print(star)\n",
    "    print(len(star2texts[star]))\n",
    "    print()"
   ]
  },
  {
   "cell_type": "code",
   "execution_count": 14,
   "metadata": {},
   "outputs": [],
   "source": [
    "num_texts = 800"
   ]
  },
  {
   "cell_type": "code",
   "execution_count": 15,
   "metadata": {},
   "outputs": [],
   "source": [
    "texts_labels = []\n",
    "\n",
    "for star in [1.0, 2.0, 3.0, 4.0, 5.0]:\n",
    "    texts_labels_current = list(\n",
    "        zip(star2texts[star], star2labels[star])\n",
    "    )[:num_texts]\n",
    "    \n",
    "    texts_labels += texts_labels_current"
   ]
  },
  {
   "cell_type": "code",
   "execution_count": 16,
   "metadata": {},
   "outputs": [
    {
     "data": {
      "text/plain": [
       "4000"
      ]
     },
     "execution_count": 16,
     "metadata": {},
     "output_type": "execute_result"
    }
   ],
   "source": [
    "len(texts_labels)"
   ]
  },
  {
   "cell_type": "code",
   "execution_count": 17,
   "metadata": {},
   "outputs": [],
   "source": [
    "np.random.shuffle(texts_labels)"
   ]
  },
  {
   "cell_type": "code",
   "execution_count": 18,
   "metadata": {},
   "outputs": [],
   "source": [
    "texts = [p[0] for p in texts_labels]\n",
    "labels = [p[1] for p in texts_labels]"
   ]
  },
  {
   "cell_type": "code",
   "execution_count": 19,
   "metadata": {},
   "outputs": [
    {
     "data": {
      "text/plain": [
       "\"When one thinks of sushi in Northeast Ohio, a place on the border of Parma next to a Subway and a convenience store is not going to come to mind. Thankfully though, the check cashing place is no longer there. As a result I had driven past it many a time without a second thought. A few months ago I figured that I might as well give it a shot.\\r\\n\\r\\nI'm glad I did, to put it lightly. The service has been attentive each time I have been there, and the decor is nice. What surprised me is that rarely have I seen anyone else eating there. Either I'm there at the wrong times or others have made the same assumption I did. I had miso soup a couple of times while they prepared the sushi, and it is just the right blend of ingredients. I'm a snob when it comes to miso so impressing me with that is a big deal.\\r\\n\\r\\nAs for the star, the sushi, it is made fresh with care and it shows. The $3 happy hour rolls are delicious, and the specialty rolls are even better. The Parma rolls in particular have become my all-time favorite, despite the fact that it is not so much sushi as it is crab on a ball of rice.\\r\\n\\r\\nAfter eating here, having sushi at the buffets and other restaurants in the area just isn't the same.  It's a must try if you are in the area, especially on Tuesday or Wednesday since one can easily fill up on two of the $3 basic rolls available on those days.\""
      ]
     },
     "execution_count": 19,
     "metadata": {},
     "output_type": "execute_result"
    }
   ],
   "source": [
    "texts[0]"
   ]
  },
  {
   "cell_type": "code",
   "execution_count": 20,
   "metadata": {},
   "outputs": [
    {
     "data": {
      "text/plain": [
       "5.0"
      ]
     },
     "execution_count": 20,
     "metadata": {},
     "output_type": "execute_result"
    }
   ],
   "source": [
    "labels[0]"
   ]
  },
  {
   "cell_type": "code",
   "execution_count": 21,
   "metadata": {},
   "outputs": [],
   "source": [
    "label2sentiment = {\n",
    "    1.0: -1,\n",
    "    2.0: -0.5,\n",
    "    3.0: 0,\n",
    "    4.0: +0.5,\n",
    "    5.0: +1\n",
    "}"
   ]
  },
  {
   "cell_type": "code",
   "execution_count": 22,
   "metadata": {},
   "outputs": [],
   "source": [
    "sentiments = [label2sentiment[label] for label in labels]"
   ]
  },
  {
   "cell_type": "code",
   "execution_count": 23,
   "metadata": {},
   "outputs": [
    {
     "name": "stdout",
     "output_type": "stream",
     "text": [
      "[1, 0, 0.5, -1, -0.5, 0.5, 0.5, -0.5, -1, 0]\n"
     ]
    }
   ],
   "source": [
    "print(sentiments[:10])"
   ]
  },
  {
   "cell_type": "code",
   "execution_count": 24,
   "metadata": {},
   "outputs": [],
   "source": [
    "model = textgenrnn()\n",
    "\n",
    "word_level = False\n",
    "new_model = False\n",
    "num_epochs = 2\n",
    "gen_epochs = 1\n",
    "max_length = 40\n",
    "\n",
    "train_size=0.9"
   ]
  },
  {
   "cell_type": "code",
   "execution_count": null,
   "metadata": {},
   "outputs": [
    {
     "name": "stdout",
     "output_type": "stream",
     "text": [
      "Training on 2,226,814 character sequences.\n",
      "Epoch 1/2\n",
      " 7862/17396 [============>.................] - ETA: 1:02:41 - loss: 1.4829 - context_output_loss: 1.4829 - output_loss: 1.4827"
     ]
    }
   ],
   "source": [
    "model.train_on_texts(\n",
    "    texts,\n",
    "    sentiment_values=labels,\n",
    "    word_level=word_level,\n",
    "    num_epochs=num_epochs,\n",
    "    gen_epochs=gen_epochs,\n",
    "    max_length=max_length,\n",
    "    new_model=new_model,\n",
    "    train_size=train_size)"
   ]
  },
  {
   "cell_type": "code",
   "execution_count": null,
   "metadata": {},
   "outputs": [],
   "source": [
    "model.save()"
   ]
  },
  {
   "cell_type": "code",
   "execution_count": null,
   "metadata": {},
   "outputs": [],
   "source": [
    "print('Samples')\n",
    "\n",
    "sentiment_values = [-1, -0.8, -0.5, -0.1, 0, +0.1, +0.5, +0.8, +1]\n",
    "\n",
    "for sentiment_value in sentiment_values:\n",
    "    print('Sentiment:', sentiment_value)\n",
    "    print(model.generate(1, sentiment_value, return_as_list=True)[0])\n",
    "    print()"
   ]
  }
 ],
 "metadata": {
  "kernelspec": {
   "display_name": "Python 3",
   "language": "python",
   "name": "python3"
  },
  "language_info": {
   "codemirror_mode": {
    "name": "ipython",
    "version": 3
   },
   "file_extension": ".py",
   "mimetype": "text/x-python",
   "name": "python",
   "nbconvert_exporter": "python",
   "pygments_lexer": "ipython3",
   "version": "3.6.8"
  }
 },
 "nbformat": 4,
 "nbformat_minor": 2
}
